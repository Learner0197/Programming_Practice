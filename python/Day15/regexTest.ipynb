{
 "cells": [
  {
   "cell_type": "code",
   "id": "initial_id",
   "metadata": {
    "collapsed": true,
    "ExecuteTime": {
     "end_time": "2025-10-01T12:10:17.485642Z",
     "start_time": "2025-10-01T12:10:17.481825Z"
    }
   },
   "source": "import re",
   "outputs": [],
   "execution_count": 1
  },
  {
   "metadata": {
    "ExecuteTime": {
     "end_time": "2025-10-01T12:14:09.581611Z",
     "start_time": "2025-10-01T12:14:09.575370Z"
    }
   },
   "cell_type": "code",
   "source": [
    "text = \"Hello all world my phone number is 1234567890 and my roll number is 1234\"\n",
    "re.match(r\"Hello\", text)\n",
    "re.search(r\"\\d{10}\", text)\n",
    "re.findall(r\"\\d+\", text) #\"+\" means 1 or more occurrences."
   ],
   "id": "9362e8c9100a804b",
   "outputs": [
    {
     "data": {
      "text/plain": [
       "['1234567890', '1234']"
      ]
     },
     "execution_count": 4,
     "metadata": {},
     "output_type": "execute_result"
    }
   ],
   "execution_count": 4
  },
  {
   "metadata": {
    "ExecuteTime": {
     "end_time": "2025-10-01T12:38:20.274823Z",
     "start_time": "2025-10-01T12:38:20.267238Z"
    }
   },
   "cell_type": "code",
   "source": "re.findall(r\"[a][a-zA-z]{2}\", text)",
   "id": "276a47ba62b65649",
   "outputs": [
    {
     "data": {
      "text/plain": [
       "['all', 'and']"
      ]
     },
     "execution_count": 5,
     "metadata": {},
     "output_type": "execute_result"
    }
   ],
   "execution_count": 5
  },
  {
   "metadata": {},
   "cell_type": "code",
   "outputs": [],
   "execution_count": null,
   "source": "",
   "id": "8ac74b44d745d71e"
  }
 ],
 "metadata": {
  "kernelspec": {
   "display_name": "Python 3",
   "language": "python",
   "name": "python3"
  },
  "language_info": {
   "codemirror_mode": {
    "name": "ipython",
    "version": 2
   },
   "file_extension": ".py",
   "mimetype": "text/x-python",
   "name": "python",
   "nbconvert_exporter": "python",
   "pygments_lexer": "ipython2",
   "version": "2.7.6"
  }
 },
 "nbformat": 4,
 "nbformat_minor": 5
}
