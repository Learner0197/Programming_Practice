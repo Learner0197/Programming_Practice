{
 "cells": [
  {
   "metadata": {
    "collapsed": true
   },
   "cell_type": "markdown",
   "source": "## Question 1 Write a NumPy program to get the numpy version and show numpy build configuration.",
   "id": "a24e770c1c467518"
  },
  {
   "metadata": {
    "ExecuteTime": {
     "end_time": "2025-10-04T08:18:29.598511Z",
     "start_time": "2025-10-04T08:18:29.588556Z"
    }
   },
   "cell_type": "code",
   "source": [
    "from operator import indexOf\n",
    "\n",
    "import numpy as np\n",
    "np.show_config()"
   ],
   "id": "2e2c148e330ea15a",
   "outputs": [
    {
     "name": "stdout",
     "output_type": "stream",
     "text": [
      "Build Dependencies:\n",
      "  blas:\n",
      "    detection method: pkgconfig\n",
      "    found: true\n",
      "    include directory: C:/Users/runneradmin/AppData/Local/Temp/cibw-run-5t0hy_xh/cp313-win_amd64/build/venv/Lib/site-packages/scipy_openblas64/include\n",
      "    lib directory: C:/Users/runneradmin/AppData/Local/Temp/cibw-run-5t0hy_xh/cp313-win_amd64/build/venv/Lib/site-packages/scipy_openblas64/lib\n",
      "    name: scipy-openblas\n",
      "    openblas configuration: OpenBLAS 0.3.30  USE64BITINT DYNAMIC_ARCH NO_AFFINITY\n",
      "      Haswell MAX_THREADS=24\n",
      "    pc file directory: D:/a/numpy-release/numpy-release/.openblas\n",
      "    version: 0.3.30\n",
      "  lapack:\n",
      "    detection method: pkgconfig\n",
      "    found: true\n",
      "    include directory: C:/Users/runneradmin/AppData/Local/Temp/cibw-run-5t0hy_xh/cp313-win_amd64/build/venv/Lib/site-packages/scipy_openblas64/include\n",
      "    lib directory: C:/Users/runneradmin/AppData/Local/Temp/cibw-run-5t0hy_xh/cp313-win_amd64/build/venv/Lib/site-packages/scipy_openblas64/lib\n",
      "    name: scipy-openblas\n",
      "    openblas configuration: OpenBLAS 0.3.30  USE64BITINT DYNAMIC_ARCH NO_AFFINITY\n",
      "      Haswell MAX_THREADS=24\n",
      "    pc file directory: D:/a/numpy-release/numpy-release/.openblas\n",
      "    version: 0.3.30\n",
      "Compilers:\n",
      "  c:\n",
      "    commands: cl\n",
      "    linker: link\n",
      "    name: msvc\n",
      "    version: 19.44.35215\n",
      "  c++:\n",
      "    commands: cl\n",
      "    linker: link\n",
      "    name: msvc\n",
      "    version: 19.44.35215\n",
      "  cython:\n",
      "    commands: cython\n",
      "    linker: cython\n",
      "    name: cython\n",
      "    version: 3.1.3\n",
      "Machine Information:\n",
      "  build:\n",
      "    cpu: x86_64\n",
      "    endian: little\n",
      "    family: x86_64\n",
      "    system: windows\n",
      "  host:\n",
      "    cpu: x86_64\n",
      "    endian: little\n",
      "    family: x86_64\n",
      "    system: windows\n",
      "Python Information:\n",
      "  path: C:\\Users\\runneradmin\\AppData\\Local\\Temp\\build-env-q3zde7n4\\Scripts\\python.exe\n",
      "  version: '3.13'\n",
      "SIMD Extensions:\n",
      "  baseline:\n",
      "  - SSE\n",
      "  - SSE2\n",
      "  - SSE3\n",
      "  found:\n",
      "  - SSSE3\n",
      "  - SSE41\n",
      "  - POPCNT\n",
      "  - SSE42\n",
      "  - AVX\n",
      "  - F16C\n",
      "  - FMA3\n",
      "  - AVX2\n",
      "  - AVX512F\n",
      "  - AVX512CD\n",
      "  - AVX512_SKX\n",
      "  - AVX512_CLX\n",
      "  not found:\n",
      "  - AVX512_CNL\n",
      "  - AVX512_ICL\n",
      "\n"
     ]
    }
   ],
   "execution_count": 6
  },
  {
   "metadata": {},
   "cell_type": "markdown",
   "source": "## Question 2 Write a NumPy program to get help on the add function.",
   "id": "82337461142ebbb2"
  },
  {
   "metadata": {
    "ExecuteTime": {
     "end_time": "2025-10-04T08:21:10.227006Z",
     "start_time": "2025-10-04T08:21:10.221709Z"
    }
   },
   "cell_type": "code",
   "source": "help(np.add)",
   "id": "85465a47ba268341",
   "outputs": [
    {
     "name": "stdout",
     "output_type": "stream",
     "text": [
      "Help on ufunc in module numpy:\n",
      "\n",
      "add = <ufunc 'add'>\n",
      "    add(x1, x2, /, out=None, *, where=True, casting='same_kind', order='K', dtype=None, subok=True[, signature])\n",
      "\n",
      "    Add arguments element-wise.\n",
      "\n",
      "    Parameters\n",
      "    ----------\n",
      "    x1, x2 : array_like\n",
      "        The arrays to be added.\n",
      "        If ``x1.shape != x2.shape``, they must be broadcastable to a common\n",
      "        shape (which becomes the shape of the output).\n",
      "    out : ndarray, None, or tuple of ndarray and None, optional\n",
      "        A location into which the result is stored. If provided, it must have\n",
      "        a shape that the inputs broadcast to. If not provided or None,\n",
      "        a freshly-allocated array is returned. A tuple (possible only as a\n",
      "        keyword argument) must have length equal to the number of outputs.\n",
      "    where : array_like, optional\n",
      "        This condition is broadcast over the input. At locations where the\n",
      "        condition is True, the `out` array will be set to the ufunc result.\n",
      "        Elsewhere, the `out` array will retain its original value.\n",
      "        Note that if an uninitialized `out` array is created via the default\n",
      "        ``out=None``, locations within it where the condition is False will\n",
      "        remain uninitialized.\n",
      "    **kwargs\n",
      "        For other keyword-only arguments, see the\n",
      "        :ref:`ufunc docs <ufuncs.kwargs>`.\n",
      "\n",
      "    Returns\n",
      "    -------\n",
      "    add : ndarray or scalar\n",
      "        The sum of `x1` and `x2`, element-wise.\n",
      "        This is a scalar if both `x1` and `x2` are scalars.\n",
      "\n",
      "    Notes\n",
      "    -----\n",
      "    Equivalent to `x1` + `x2` in terms of array broadcasting.\n",
      "\n",
      "    Examples\n",
      "    --------\n",
      "    >>> import numpy as np\n",
      "    >>> np.add(1.0, 4.0)\n",
      "    5.0\n",
      "    >>> x1 = np.arange(9.0).reshape((3, 3))\n",
      "    >>> x2 = np.arange(3.0)\n",
      "    >>> np.add(x1, x2)\n",
      "    array([[  0.,   2.,   4.],\n",
      "           [  3.,   5.,   7.],\n",
      "           [  6.,   8.,  10.]])\n",
      "\n",
      "    The ``+`` operator can be used as a shorthand for ``np.add`` on ndarrays.\n",
      "\n",
      "    >>> x1 = np.arange(9.0).reshape((3, 3))\n",
      "    >>> x2 = np.arange(3.0)\n",
      "    >>> x1 + x2\n",
      "    array([[ 0.,  2.,  4.],\n",
      "           [ 3.,  5.,  7.],\n",
      "           [ 6.,  8., 10.]])\n",
      "\n"
     ]
    }
   ],
   "execution_count": 7
  },
  {
   "metadata": {},
   "cell_type": "markdown",
   "source": "## Question 3 Write a NumPy program to test whether none of the elements of a given array is zero.",
   "id": "b63f81c1c2ff4b33"
  },
  {
   "metadata": {
    "ExecuteTime": {
     "end_time": "2025-10-04T08:38:54.362723Z",
     "start_time": "2025-10-04T08:38:54.356948Z"
    }
   },
   "cell_type": "code",
   "source": [
    "a=np.arange(1,25)\n",
    "print(not any (a==0))"
   ],
   "id": "2cb5e52b0878df6e",
   "outputs": [
    {
     "name": "stdout",
     "output_type": "stream",
     "text": [
      "True\n"
     ]
    }
   ],
   "execution_count": 33
  },
  {
   "metadata": {
    "ExecuteTime": {
     "end_time": "2025-10-04T08:30:20.819222Z",
     "start_time": "2025-10-04T08:30:20.815828Z"
    }
   },
   "cell_type": "markdown",
   "source": "## Question 4 Write a NumPy program to test whether any of the elements of a given array is non-zero.",
   "id": "f9d083bc042c675b"
  },
  {
   "metadata": {
    "ExecuteTime": {
     "end_time": "2025-10-04T08:43:03.072636Z",
     "start_time": "2025-10-04T08:43:03.065462Z"
    }
   },
   "cell_type": "code",
   "source": [
    "b=np.array([0,0,0,1,5,5,0])\n",
    "c=np.array([0,0,0,0,0])\n",
    "print(any (b!=0))\n",
    "print(any (c!=0))"
   ],
   "id": "321ed1b1cd57ff1",
   "outputs": [
    {
     "name": "stdout",
     "output_type": "stream",
     "text": [
      "True\n",
      "False\n"
     ]
    }
   ],
   "execution_count": 35
  },
  {
   "metadata": {
    "ExecuteTime": {
     "end_time": "2025-10-04T08:45:36.504141Z",
     "start_time": "2025-10-04T08:45:36.498427Z"
    }
   },
   "cell_type": "markdown",
   "source": "## Question 5 Write a NumPy program to test a given array element-wise for finiteness (not infinity or not a Number)",
   "id": "c5bf6c556557ccbe"
  },
  {
   "metadata": {
    "ExecuteTime": {
     "end_time": "2025-10-04T08:51:24.368642Z",
     "start_time": "2025-10-04T08:51:24.361973Z"
    }
   },
   "cell_type": "code",
   "source": [
    "d=np.array([1,54,69,np.nan,45,326,np.inf])\n",
    "print(np.isfinite(d))"
   ],
   "id": "13dad4e29179c06d",
   "outputs": [
    {
     "name": "stdout",
     "output_type": "stream",
     "text": [
      "[ True  True  True False  True  True False]\n"
     ]
    }
   ],
   "execution_count": 43
  },
  {
   "metadata": {},
   "cell_type": "markdown",
   "source": "## Question 6 Write a NumPy program to test element-wise for positive or negative infinity.",
   "id": "a86d44e17fe47e69"
  },
  {
   "metadata": {
    "ExecuteTime": {
     "end_time": "2025-10-04T08:58:04.932269Z",
     "start_time": "2025-10-04T08:58:04.924208Z"
    }
   },
   "cell_type": "code",
   "source": [
    "e=np.array([4,67,-np.inf,46,92,np.inf])\n",
    "print(np.isinf(e))"
   ],
   "id": "73e54fab0d5bc01b",
   "outputs": [
    {
     "name": "stdout",
     "output_type": "stream",
     "text": [
      "[False False  True False False  True]\n"
     ]
    }
   ],
   "execution_count": 50
  },
  {
   "metadata": {},
   "cell_type": "markdown",
   "source": "## Question 7 Write a NumPy program to test element-wise for NaN of a given array.",
   "id": "d015e4bac1f03d46"
  },
  {
   "metadata": {
    "ExecuteTime": {
     "end_time": "2025-10-04T08:59:48.838055Z",
     "start_time": "2025-10-04T08:59:48.829755Z"
    }
   },
   "cell_type": "code",
   "source": [
    "f=np.array([467,43,679,np.nan,538,1])\n",
    "print(np.isnan(f))"
   ],
   "id": "2034ba4bdb0cff64",
   "outputs": [
    {
     "name": "stdout",
     "output_type": "stream",
     "text": [
      "[False False False  True False False]\n"
     ]
    }
   ],
   "execution_count": 51
  },
  {
   "metadata": {},
   "cell_type": "markdown",
   "source": "## Question 8 Write a NumPy program to test element-wise for complex number, real number of a given array. Also test whether a given number is a scalar type or not.",
   "id": "fd9ce5ad4e9ebb7e"
  },
  {
   "metadata": {
    "ExecuteTime": {
     "end_time": "2025-10-04T09:12:45.766373Z",
     "start_time": "2025-10-04T09:12:45.759516Z"
    }
   },
   "cell_type": "code",
   "source": [
    "g=([63,3,-34j,63+54j,26783])\n",
    "print(np.isreal(g))\n",
    "print(np.iscomplex(g))\n",
    "print(np.isscalar(g[4]))"
   ],
   "id": "18d50c78bbbe0100",
   "outputs": [
    {
     "name": "stdout",
     "output_type": "stream",
     "text": [
      "[ True  True False False  True]\n",
      "[False False  True  True False]\n",
      "True\n"
     ]
    }
   ],
   "execution_count": 61
  },
  {
   "metadata": {},
   "cell_type": "markdown",
   "source": "## Question 9 Write a NumPy program to create an element-wise comparison (greater, greater_equal, less and less_equal) of two given arrays.",
   "id": "a76c21c34324883a"
  },
  {
   "metadata": {
    "ExecuteTime": {
     "end_time": "2025-10-04T09:17:47.974355Z",
     "start_time": "2025-10-04T09:17:47.966097Z"
    }
   },
   "cell_type": "code",
   "source": [
    "h=np.array([36,53,436,6,5,34])\n",
    "i=np.array([43,47,57,37,8463,34])\n",
    "print(np.greater(h,i))\n",
    "print(np.greater_equal(h,i))\n",
    "print(np.less(h,i))\n",
    "print(np.less_equal(h,i))"
   ],
   "id": "679bb76e4e5bdda8",
   "outputs": [
    {
     "name": "stdout",
     "output_type": "stream",
     "text": [
      "[False  True  True False False False]\n",
      "[False  True  True False False  True]\n",
      "[ True False False  True  True False]\n",
      "[ True False False  True  True  True]\n"
     ]
    }
   ],
   "execution_count": 64
  },
  {
   "metadata": {
    "ExecuteTime": {
     "end_time": "2025-10-04T09:17:17.358562Z",
     "start_time": "2025-10-04T09:17:17.354890Z"
    }
   },
   "cell_type": "markdown",
   "source": "## Question 10 Write a NumPy program to create an array with the values 1, 7, 13, 105 and determine the size of the memory occupied by the array.",
   "id": "6b8e56ef0a7dce09"
  },
  {
   "metadata": {
    "ExecuteTime": {
     "end_time": "2025-10-04T09:22:29.775735Z",
     "start_time": "2025-10-04T09:22:29.769151Z"
    }
   },
   "cell_type": "code",
   "source": [
    "j=np.array([1,7,13,105])\n",
    "print(j.size * j.itemsize)"
   ],
   "id": "47305af7d08e5ee8",
   "outputs": [
    {
     "name": "stdout",
     "output_type": "stream",
     "text": [
      "32\n"
     ]
    }
   ],
   "execution_count": 69
  },
  {
   "metadata": {},
   "cell_type": "markdown",
   "source": "## Question 11 Write a NumPy program to create an array of 10 zeros,10 ones, 10 fives.",
   "id": "3d83f6fa61eaa5ed"
  },
  {
   "metadata": {
    "ExecuteTime": {
     "end_time": "2025-10-04T09:34:32.191340Z",
     "start_time": "2025-10-04T09:34:32.183941Z"
    }
   },
   "cell_type": "code",
   "source": [
    "k=np.zeros(10)\n",
    "\n",
    "k=np.append(k,np.ones(10))\n",
    "k=np.append(k,np.ones(10)*5)\n",
    "print(k)"
   ],
   "id": "945fce6b16d1255a",
   "outputs": [
    {
     "name": "stdout",
     "output_type": "stream",
     "text": [
      "[0. 0. 0. 0. 0. 0. 0. 0. 0. 0. 1. 1. 1. 1. 1. 1. 1. 1. 1. 1. 5. 5. 5. 5.\n",
      " 5. 5. 5. 5. 5. 5.]\n"
     ]
    }
   ],
   "execution_count": 90
  },
  {
   "metadata": {},
   "cell_type": "markdown",
   "source": "## Question 12 Write a NumPy program to create an array of the integers from 30 to70.",
   "id": "a44d666a2b6e13e6"
  },
  {
   "metadata": {
    "ExecuteTime": {
     "end_time": "2025-10-04T09:30:47.733555Z",
     "start_time": "2025-10-04T09:30:47.726418Z"
    }
   },
   "cell_type": "code",
   "source": [
    "l=np.arange(30,71)\n",
    "print(l)"
   ],
   "id": "a8f16c8b2764fb48",
   "outputs": [
    {
     "name": "stdout",
     "output_type": "stream",
     "text": [
      "[30 31 32 33 34 35 36 37 38 39 40 41 42 43 44 45 46 47 48 49 50 51 52 53\n",
      " 54 55 56 57 58 59 60 61 62 63 64 65 66 67 68 69 70]\n"
     ]
    }
   ],
   "execution_count": 85
  },
  {
   "metadata": {},
   "cell_type": "markdown",
   "source": "## Question 13 Write a NumPy program to create an array of all the even integers from 30 to 70.",
   "id": "3d0e156b913f3b8d"
  },
  {
   "metadata": {
    "ExecuteTime": {
     "end_time": "2025-10-04T09:31:37.167915Z",
     "start_time": "2025-10-04T09:31:37.162067Z"
    }
   },
   "cell_type": "code",
   "source": [
    "l=np.arange(30,71,2)\n",
    "print(l)"
   ],
   "id": "8694e0dc590ca763",
   "outputs": [
    {
     "name": "stdout",
     "output_type": "stream",
     "text": [
      "[30 32 34 36 38 40 42 44 46 48 50 52 54 56 58 60 62 64 66 68 70]\n"
     ]
    }
   ],
   "execution_count": 86
  },
  {
   "metadata": {},
   "cell_type": "markdown",
   "source": "## Question 14 Write a NumPy program to create a 3x3 identity matrix.",
   "id": "fa1e3b7feb3e113a"
  },
  {
   "metadata": {
    "ExecuteTime": {
     "end_time": "2025-10-04T09:34:39.961139Z",
     "start_time": "2025-10-04T09:34:39.955064Z"
    }
   },
   "cell_type": "code",
   "source": [
    "m=np.eye(3)\n",
    "print(m)"
   ],
   "id": "935f2b0f70563e0a",
   "outputs": [
    {
     "name": "stdout",
     "output_type": "stream",
     "text": [
      "[[1. 0. 0.]\n",
      " [0. 1. 0.]\n",
      " [0. 0. 1.]]\n"
     ]
    }
   ],
   "execution_count": 91
  },
  {
   "metadata": {},
   "cell_type": "markdown",
   "source": "## Question 15 Write a NumPy program to generate a random number between 0 and 1.",
   "id": "c3b67f323b045e5d"
  },
  {
   "metadata": {
    "ExecuteTime": {
     "end_time": "2025-10-04T09:36:15.011661Z",
     "start_time": "2025-10-04T09:36:15.005074Z"
    }
   },
   "cell_type": "code",
   "source": [
    "n=np.random.randn(1)\n",
    "print(n)"
   ],
   "id": "a5d6cd1aa8c9314f",
   "outputs": [
    {
     "name": "stdout",
     "output_type": "stream",
     "text": [
      "[0.59400246]\n"
     ]
    }
   ],
   "execution_count": 98
  },
  {
   "metadata": {},
   "cell_type": "markdown",
   "source": "## Question 16 Write a NumPy program to generate an array of 15 random numbers from a standard normal distribution.",
   "id": "c143f8f954a04e0"
  },
  {
   "metadata": {
    "ExecuteTime": {
     "end_time": "2025-10-04T09:38:42.341317Z",
     "start_time": "2025-10-04T09:38:42.332437Z"
    }
   },
   "cell_type": "code",
   "source": [
    "o=np.random.rand(15)\n",
    "print(o)"
   ],
   "id": "9164d11403b01e65",
   "outputs": [
    {
     "name": "stdout",
     "output_type": "stream",
     "text": [
      "[0.10742882 0.47381045 0.1830686  0.88305387 0.94700407 0.84477301\n",
      " 0.15585111 0.41856309 0.63591219 0.60040015 0.60332779 0.6310503\n",
      " 0.14775929 0.90771465 0.63009147]\n"
     ]
    }
   ],
   "execution_count": 104
  },
  {
   "metadata": {
    "ExecuteTime": {
     "end_time": "2025-10-04T09:38:12.192304Z",
     "start_time": "2025-10-04T09:38:12.188560Z"
    }
   },
   "cell_type": "markdown",
   "source": "## Question 17 Write a NumPy program to create a vector with values ranging from 15 to 55 and print all values except the first and last.",
   "id": "e048bbddf999673b"
  },
  {
   "metadata": {
    "ExecuteTime": {
     "end_time": "2025-10-04T09:43:46.255812Z",
     "start_time": "2025-10-04T09:43:46.248449Z"
    }
   },
   "cell_type": "code",
   "source": [
    "o=np.arange(15,56)\n",
    "print(o[1:-1])"
   ],
   "id": "a52247e0a28a7b25",
   "outputs": [
    {
     "name": "stdout",
     "output_type": "stream",
     "text": [
      "[16 17 18 19 20 21 22 23 24 25 26 27 28 29 30 31 32 33 34 35 36 37 38 39\n",
      " 40 41 42 43 44 45 46 47 48 49 50 51 52 53 54]\n"
     ]
    }
   ],
   "execution_count": 105
  },
  {
   "metadata": {},
   "cell_type": "markdown",
   "source": "## Question 18 Write a NumPy program to create a 3X4 array using and iterate over it.",
   "id": "b1f8da52a5d6e11a"
  },
  {
   "metadata": {
    "ExecuteTime": {
     "end_time": "2025-10-04T09:48:44.555044Z",
     "start_time": "2025-10-04T09:48:44.543976Z"
    }
   },
   "cell_type": "code",
   "source": [
    "p=np.arange(12).reshape(3,4)\n",
    "for row in p:\n",
    "    for col in row:\n",
    "        print(col)"
   ],
   "id": "8bc6bb7efc560a86",
   "outputs": [
    {
     "name": "stdout",
     "output_type": "stream",
     "text": [
      "0\n",
      "1\n",
      "2\n",
      "3\n",
      "4\n",
      "5\n",
      "6\n",
      "7\n",
      "8\n",
      "9\n",
      "10\n",
      "11\n"
     ]
    }
   ],
   "execution_count": 113
  },
  {
   "metadata": {},
   "cell_type": "markdown",
   "source": "## Question 19 Write a NumPy program to create a vector of length 10 with values evenly distributed between 5 and 50.",
   "id": "642dd17acc82d897"
  },
  {
   "metadata": {
    "ExecuteTime": {
     "end_time": "2025-10-04T09:51:07.018260Z",
     "start_time": "2025-10-04T09:51:07.005275Z"
    }
   },
   "cell_type": "code",
   "source": [
    "q=np.linspace(5,50,10)\n",
    "print(q)"
   ],
   "id": "562bc0101eefe786",
   "outputs": [
    {
     "name": "stdout",
     "output_type": "stream",
     "text": [
      "[ 5. 10. 15. 20. 25. 30. 35. 40. 45. 50.]\n"
     ]
    }
   ],
   "execution_count": 117
  },
  {
   "metadata": {},
   "cell_type": "markdown",
   "source": "## Question 20 Write a NumPy program to create a vector with values from 0 to 20 and change the sign of the numbers in the range from 9 to 15.",
   "id": "a39969d58539da17"
  },
  {
   "metadata": {
    "ExecuteTime": {
     "end_time": "2025-10-04T09:53:53.441987Z",
     "start_time": "2025-10-04T09:53:53.435777Z"
    }
   },
   "cell_type": "code",
   "source": [
    "r=np.arange(0,20)\n",
    "r[9:16]=-r[9:16]\n",
    "print(r)"
   ],
   "id": "9637ab1c1fbbe4a4",
   "outputs": [
    {
     "name": "stdout",
     "output_type": "stream",
     "text": [
      "[  0   1   2   3   4   5   6   7   8  -9 -10 -11 -12 -13 -14 -15  16  17\n",
      "  18  19]\n"
     ]
    }
   ],
   "execution_count": 119
  },
  {
   "metadata": {},
   "cell_type": "markdown",
   "source": "## Question 21 Write a NumPy program to create a vector of length 5 filled with arbitrary integers from 0 to 10.",
   "id": "ef7bd786055b0b64"
  },
  {
   "metadata": {
    "ExecuteTime": {
     "end_time": "2025-10-04T09:57:16.264241Z",
     "start_time": "2025-10-04T09:57:16.255086Z"
    }
   },
   "cell_type": "code",
   "source": [
    "s=np.random.randint(0,10,(5))\n",
    "print(s)"
   ],
   "id": "e7e10622907e8571",
   "outputs": [
    {
     "name": "stdout",
     "output_type": "stream",
     "text": [
      "[3 9 8 7 6]\n"
     ]
    }
   ],
   "execution_count": 126
  },
  {
   "metadata": {},
   "cell_type": "markdown",
   "source": "## Question 22 Write a NumPy program to multiply the values of two given vectors.",
   "id": "3dca0318cf39b537"
  },
  {
   "metadata": {
    "ExecuteTime": {
     "end_time": "2025-10-04T09:59:33.901119Z",
     "start_time": "2025-10-04T09:59:33.894783Z"
    }
   },
   "cell_type": "code",
   "source": [
    "t=np.arange(1,11)\n",
    "u=np.arange(6,16)\n",
    "print(t*u)"
   ],
   "id": "1a58b52a9d0e0f4a",
   "outputs": [
    {
     "name": "stdout",
     "output_type": "stream",
     "text": [
      "[  6  14  24  36  50  66  84 104 126 150]\n"
     ]
    }
   ],
   "execution_count": 131
  },
  {
   "metadata": {},
   "cell_type": "markdown",
   "source": "## Question 23 Write a NumPy program to create a 3x4 matrix filled with values from 10 to 21.",
   "id": "68e8738ebe4b2c77"
  },
  {
   "metadata": {
    "ExecuteTime": {
     "end_time": "2025-10-04T10:00:35.531628Z",
     "start_time": "2025-10-04T10:00:35.525440Z"
    }
   },
   "cell_type": "code",
   "source": [
    "w=np.arange(10,22).reshape((3,4))\n",
    "print(w)"
   ],
   "id": "a76a45396d930810",
   "outputs": [
    {
     "name": "stdout",
     "output_type": "stream",
     "text": [
      "[[10 11 12 13]\n",
      " [14 15 16 17]\n",
      " [18 19 20 21]]\n"
     ]
    }
   ],
   "execution_count": 132
  },
  {
   "metadata": {},
   "cell_type": "markdown",
   "source": "## Question 24 Write a NumPy program to find the number of rows and columns of a given matrix.",
   "id": "1577c57c2bb91d4e"
  },
  {
   "metadata": {
    "ExecuteTime": {
     "end_time": "2025-10-04T10:03:12.691596Z",
     "start_time": "2025-10-04T10:03:12.685205Z"
    }
   },
   "cell_type": "code",
   "source": [
    "x=np.arange(10,22).reshape((3,4))\n",
    "r,c=x.shape\n",
    "print(r)\n",
    "print(c)"
   ],
   "id": "412c10b1d14267ec",
   "outputs": [
    {
     "name": "stdout",
     "output_type": "stream",
     "text": [
      "3\n",
      "4\n"
     ]
    }
   ],
   "execution_count": 133
  },
  {
   "metadata": {},
   "cell_type": "markdown",
   "source": "## Question 25 Write a NumPy program to create a 3x3 identity matrix, i.e. diagonal elements are 1, the rest are 0.",
   "id": "94bb01e3ced4d927"
  },
  {
   "metadata": {
    "ExecuteTime": {
     "end_time": "2025-10-04T10:03:49.434421Z",
     "start_time": "2025-10-04T10:03:49.422531Z"
    }
   },
   "cell_type": "code",
   "source": [
    "y=np.eye(3)\n",
    "y"
   ],
   "id": "cff4ad5ede077dfb",
   "outputs": [
    {
     "data": {
      "text/plain": [
       "array([[1., 0., 0.],\n",
       "       [0., 1., 0.],\n",
       "       [0., 0., 1.]])"
      ]
     },
     "execution_count": 134,
     "metadata": {},
     "output_type": "execute_result"
    }
   ],
   "execution_count": 134
  },
  {
   "metadata": {},
   "cell_type": "markdown",
   "source": "## Question 26 Write a NumPy program to create a 10x10 matrix, in which the elements on the borders will be equal to 1, and inside 0.",
   "id": "ec5f46af75bad5dd"
  },
  {
   "metadata": {
    "ExecuteTime": {
     "end_time": "2025-10-04T10:07:58.547301Z",
     "start_time": "2025-10-04T10:07:58.539571Z"
    }
   },
   "cell_type": "code",
   "source": [
    "z=np.ones((10,10))\n",
    "z[1:-1,1:-1]=0\n",
    "print(z)"
   ],
   "id": "38d763d9e3464c94",
   "outputs": [
    {
     "name": "stdout",
     "output_type": "stream",
     "text": [
      "[[1. 1. 1. 1. 1. 1. 1. 1. 1. 1.]\n",
      " [1. 0. 0. 0. 0. 0. 0. 0. 0. 1.]\n",
      " [1. 0. 0. 0. 0. 0. 0. 0. 0. 1.]\n",
      " [1. 0. 0. 0. 0. 0. 0. 0. 0. 1.]\n",
      " [1. 0. 0. 0. 0. 0. 0. 0. 0. 1.]\n",
      " [1. 0. 0. 0. 0. 0. 0. 0. 0. 1.]\n",
      " [1. 0. 0. 0. 0. 0. 0. 0. 0. 1.]\n",
      " [1. 0. 0. 0. 0. 0. 0. 0. 0. 1.]\n",
      " [1. 0. 0. 0. 0. 0. 0. 0. 0. 1.]\n",
      " [1. 1. 1. 1. 1. 1. 1. 1. 1. 1.]]\n"
     ]
    }
   ],
   "execution_count": 137
  },
  {
   "metadata": {},
   "cell_type": "markdown",
   "source": "## Question 27 Write a NumPy program to create a 5x5 zero matrix with elements on the main diagonal equal to 1, 2, 3, 4, 5.",
   "id": "fc26d6b20e27db22"
  },
  {
   "metadata": {
    "ExecuteTime": {
     "end_time": "2025-10-04T10:10:42.633321Z",
     "start_time": "2025-10-04T10:10:42.626672Z"
    }
   },
   "cell_type": "code",
   "source": [
    "a=[1,2,3,4,5]\n",
    "b=np.diag(a)\n",
    "print(b)"
   ],
   "id": "ab11129afebe3914",
   "outputs": [
    {
     "name": "stdout",
     "output_type": "stream",
     "text": [
      "[[1 0 0 0 0]\n",
      " [0 2 0 0 0]\n",
      " [0 0 3 0 0]\n",
      " [0 0 0 4 0]\n",
      " [0 0 0 0 5]]\n"
     ]
    }
   ],
   "execution_count": 139
  },
  {
   "metadata": {},
   "cell_type": "markdown",
   "source": "## Question 28: Write a NumPy program to create a 4x4 matrix in which 0 and 1 are staggered, with zeros on the main diagonal.",
   "id": "9d8aad984d723e82"
  },
  {
   "metadata": {
    "ExecuteTime": {
     "end_time": "2025-10-04T11:15:13.019184Z",
     "start_time": "2025-10-04T11:15:13.009942Z"
    }
   },
   "cell_type": "code",
   "source": [
    "a = np.zeros((4,4))\n",
    "a[::2, 1::2] = 1\n",
    "a[1::2, 0::2] = 1\n",
    "a"
   ],
   "id": "ea6dace6fb146f6b",
   "outputs": [
    {
     "data": {
      "text/plain": [
       "array([[0., 1., 0., 1.],\n",
       "       [0., 0., 0., 0.],\n",
       "       [0., 1., 0., 1.],\n",
       "       [0., 0., 0., 0.]])"
      ]
     },
     "execution_count": 160,
     "metadata": {},
     "output_type": "execute_result"
    }
   ],
   "execution_count": 160
  },
  {
   "metadata": {
    "ExecuteTime": {
     "end_time": "2025-10-04T11:13:17.462530Z",
     "start_time": "2025-10-04T11:13:17.454344Z"
    }
   },
   "cell_type": "code",
   "source": [
    "i, j = np.indices((4,4))\n",
    "matrix = (i+j) % 2\n",
    "matrix"
   ],
   "id": "c634ea2be6c383ad",
   "outputs": [
    {
     "data": {
      "text/plain": [
       "array([[0, 1, 0, 1],\n",
       "       [1, 0, 1, 0],\n",
       "       [0, 1, 0, 1],\n",
       "       [1, 0, 1, 0]])"
      ]
     },
     "execution_count": 159,
     "metadata": {},
     "output_type": "execute_result"
    }
   ],
   "execution_count": 159
  },
  {
   "metadata": {},
   "cell_type": "markdown",
   "source": "## Question 29: Write a NumPy program to create a 3x3x3 array filled with arbitrary values.",
   "id": "755b1ff78438ac7b"
  },
  {
   "metadata": {
    "ExecuteTime": {
     "end_time": "2025-10-04T11:23:17.418607Z",
     "start_time": "2025-10-04T11:23:17.408439Z"
    }
   },
   "cell_type": "code",
   "source": [
    "arr=np.random.randint(0,50,(3,3,3))\n",
    "arr"
   ],
   "id": "5b0f4589bb08a592",
   "outputs": [
    {
     "data": {
      "text/plain": [
       "array([[[36, 32, 16],\n",
       "        [ 2, 20,  9],\n",
       "        [21, 23, 16]],\n",
       "\n",
       "       [[ 2, 44, 28],\n",
       "        [18, 27,  3],\n",
       "        [24, 10, 17]],\n",
       "\n",
       "       [[42, 13, 32],\n",
       "        [10, 41, 32],\n",
       "        [43, 38, 26]]], dtype=int32)"
      ]
     },
     "execution_count": 162,
     "metadata": {},
     "output_type": "execute_result"
    }
   ],
   "execution_count": 162
  },
  {
   "metadata": {},
   "cell_type": "markdown",
   "source": "## Question 30: Write a NumPy program to compute sum of all elements, sum of each column and sum of each row of a given array.",
   "id": "c1b7955f03c9dd78"
  },
  {
   "metadata": {
    "ExecuteTime": {
     "end_time": "2025-10-04T11:29:20.216067Z",
     "start_time": "2025-10-04T11:29:20.208657Z"
    }
   },
   "cell_type": "code",
   "source": [
    "np.random.seed(101)\n",
    "arr = np.random.randint(0,20,(3,3))\n",
    "print(arr)\n",
    "print(np.sum(arr))\n",
    "print(np.sum(arr, axis=0))\n",
    "print(np.sum(arr, axis=1))"
   ],
   "id": "f532cd5142554f89",
   "outputs": [
    {
     "name": "stdout",
     "output_type": "stream",
     "text": [
      "[[11 17  6]\n",
      " [11 15  9]\n",
      " [13  8  4]]\n",
      "94\n",
      "[35 40 19]\n",
      "[34 35 25]\n"
     ]
    }
   ],
   "execution_count": 171
  },
  {
   "metadata": {},
   "cell_type": "markdown",
   "source": "## Question 31: Write a NumPy program to compute the inner product of two given vectors.",
   "id": "c7b440aaa8b076d2"
  },
  {
   "metadata": {
    "ExecuteTime": {
     "end_time": "2025-10-04T11:34:22.159768Z",
     "start_time": "2025-10-04T11:34:22.153315Z"
    }
   },
   "cell_type": "code",
   "source": [
    "a = np.arange(1,10)\n",
    "b = np.arange(11,20)\n",
    "print(np.dot(a,b))"
   ],
   "id": "cf4f49740d738ca1",
   "outputs": [
    {
     "name": "stdout",
     "output_type": "stream",
     "text": [
      "735\n"
     ]
    }
   ],
   "execution_count": 173
  },
  {
   "metadata": {},
   "cell_type": "markdown",
   "source": "## Question 32: Write a NumPy program to add a vector to each row of a given matrix.",
   "id": "a294adfd5cf6a1b5"
  },
  {
   "metadata": {
    "ExecuteTime": {
     "end_time": "2025-10-04T11:42:13.612137Z",
     "start_time": "2025-10-04T11:42:13.602515Z"
    }
   },
   "cell_type": "code",
   "source": [
    "np.random.seed(101)\n",
    "a = np.arange(1,4)\n",
    "arr = np.random.randint(0,10,(3,3))\n",
    "print(arr)\n",
    "print(a)\n",
    "arr + a\n"
   ],
   "id": "70a0efc6d569045d",
   "outputs": [
    {
     "name": "stdout",
     "output_type": "stream",
     "text": [
      "[[1 6 7]\n",
      " [9 8 4]\n",
      " [8 5 0]]\n",
      "[1 2 3]\n"
     ]
    },
    {
     "data": {
      "text/plain": [
       "array([[ 2,  8, 10],\n",
       "       [10, 10,  7],\n",
       "       [ 9,  7,  3]])"
      ]
     },
     "execution_count": 177,
     "metadata": {},
     "output_type": "execute_result"
    }
   ],
   "execution_count": 177
  },
  {
   "metadata": {},
   "cell_type": "markdown",
   "source": "## Question 33: Write a NumPy program to compute the x and y coordinates for points on a sine curve and plot the points using matplotlib.",
   "id": "a295631e1ceeb097"
  },
  {
   "metadata": {
    "ExecuteTime": {
     "end_time": "2025-10-04T11:49:46.407162Z",
     "start_time": "2025-10-04T11:49:46.098166Z"
    }
   },
   "cell_type": "code",
   "source": [
    "import matplotlib.pyplot as plt\n",
    "\n",
    "x = np.linspace(0, 2 * np.pi, 100)\n",
    "y = np.sin(x)\n",
    "plt.plot(x,y)"
   ],
   "id": "ef060f89caada762",
   "outputs": [
    {
     "data": {
      "text/plain": [
       "[<matplotlib.lines.Line2D at 0x1b098702fd0>]"
      ]
     },
     "execution_count": 179,
     "metadata": {},
     "output_type": "execute_result"
    },
    {
     "data": {
      "text/plain": [
       "<Figure size 640x480 with 1 Axes>"
      ],
      "image/png": "[encoded data removed]"
     },
     "metadata": {},
     "output_type": "display_data",
     "jetTransient": {
      "display_id": null
     }
    }
   ],
   "execution_count": 179
  },
  {
   "metadata": {},
   "cell_type": "markdown",
   "source": "## Question 34: Write a NumPy program to convert numpy dtypes to native python types.",
   "id": "a320ea8c3135417c"
  },
  {
   "metadata": {
    "ExecuteTime": {
     "end_time": "2025-10-04T11:54:58.712669Z",
     "start_time": "2025-10-04T11:54:58.705132Z"
    }
   },
   "cell_type": "code",
   "source": [
    "np_int = np.int32(42)\n",
    "np_float = np.float64(1.14)\n",
    "np_str = np.str_(\"Hello\")\n",
    "np_bool = np.bool_(True)\n",
    "\n",
    "i = int(np_int)\n",
    "f = float(np_float)\n",
    "s = str(np_str)\n",
    "b = bool(np_bool)\n",
    "\n",
    "print(i)\n",
    "print(f)\n",
    "print(s)\n",
    "print(b)"
   ],
   "id": "fdfa6768376e97fa",
   "outputs": [
    {
     "name": "stdout",
     "output_type": "stream",
     "text": [
      "42\n",
      "1.14\n",
      "Hello\n",
      "True\n"
     ]
    }
   ],
   "execution_count": 181
  },
  {
   "metadata": {},
   "cell_type": "markdown",
   "source": "## Question 35: Write a NumPy program to find the missing data in a given array.",
   "id": "a2380286cc11ae8b"
  },
  {
   "metadata": {
    "ExecuteTime": {
     "end_time": "2025-10-04T12:02:21.145895Z",
     "start_time": "2025-10-04T12:02:21.137636Z"
    }
   },
   "cell_type": "code",
   "source": [
    "arr = np.array([1,2,np.nan, 4, np.nan,7])\n",
    "np.where(np.isnan(arr))\n"
   ],
   "id": "1b09e927a5d6356a",
   "outputs": [
    {
     "data": {
      "text/plain": [
       "(array([2, 4]),)"
      ]
     },
     "execution_count": 186,
     "metadata": {},
     "output_type": "execute_result"
    }
   ],
   "execution_count": 186
  },
  {
   "metadata": {},
   "cell_type": "markdown",
   "source": "## Question 36: Write a NumPy program to sort a given array by row and column in ascending order.",
   "id": "6cd62634d1fef76d"
  },
  {
   "metadata": {
    "ExecuteTime": {
     "end_time": "2025-10-04T12:08:44.543008Z",
     "start_time": "2025-10-04T12:08:44.535739Z"
    }
   },
   "cell_type": "code",
   "source": [
    "np.random.seed(101)\n",
    "arr = np.random.randint(0,10,(3,3))\n",
    "print(arr)\n",
    "arr.sort(axis=0)\n",
    "print(arr)\n",
    "arr.sort(axis=1)\n",
    "print(arr)"
   ],
   "id": "64ae101788a9ed60",
   "outputs": [
    {
     "name": "stdout",
     "output_type": "stream",
     "text": [
      "[[1 6 7]\n",
      " [9 8 4]\n",
      " [8 5 0]]\n",
      "[[1 5 0]\n",
      " [8 6 4]\n",
      " [9 8 7]]\n",
      "[[0 1 5]\n",
      " [4 6 8]\n",
      " [7 8 9]]\n"
     ]
    }
   ],
   "execution_count": 190
  },
  {
   "metadata": {},
   "cell_type": "code",
   "outputs": [],
   "execution_count": null,
   "source": "",
   "id": "93b4df895fa8ac25"
  }
 ],
 "metadata": {
  "kernelspec": {
   "display_name": "Python 3",
   "language": "python",
   "name": "python3"
  },
  "language_info": {
   "codemirror_mode": {
    "name": "ipython",
    "version": 2
   },
   "file_extension": ".py",
   "mimetype": "text/x-python",
   "name": "python",
   "nbconvert_exporter": "python",
   "pygments_lexer": "ipython2",
   "version": "2.7.6"
  }
 },
 "nbformat": 4,
 "nbformat_minor": 5
}
